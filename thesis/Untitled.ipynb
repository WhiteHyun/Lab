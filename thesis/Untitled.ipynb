{
 "cells": [
  {
   "cell_type": "code",
   "execution_count": 1,
   "source": [
    "import pandas as pd\n",
    "import numpy as np\n",
    "import matplotlib.pyplot as plt\n",
    "import seaborn as sns\n",
    "from matplotlib import rc\n",
    "#%matplotlib inline\n",
    "\n",
    "rc(\"font\", family=\"AppleGothic\")\n",
    "plt.rcParams[\"axes.unicode_minus\"] = False\n"
   ],
   "outputs": [],
   "metadata": {}
  },
  {
   "cell_type": "code",
   "execution_count": 2,
   "source": [
    "path = r'./locker data.csv'  # 파일 확장자 csv\n",
    "raw_data = pd.read_csv(path)\n",
    "raw_data.head()\n"
   ],
   "outputs": [
    {
     "output_type": "execute_result",
     "data": {
      "text/html": [
       "<div>\n",
       "<style scoped>\n",
       "    .dataframe tbody tr th:only-of-type {\n",
       "        vertical-align: middle;\n",
       "    }\n",
       "\n",
       "    .dataframe tbody tr th {\n",
       "        vertical-align: top;\n",
       "    }\n",
       "\n",
       "    .dataframe thead th {\n",
       "        text-align: right;\n",
       "    }\n",
       "</style>\n",
       "<table border=\"1\" class=\"dataframe\">\n",
       "  <thead>\n",
       "    <tr style=\"text-align: right;\">\n",
       "      <th></th>\n",
       "      <th>SenKey</th>\n",
       "      <th>AddDt</th>\n",
       "      <th>CRRMngKey</th>\n",
       "      <th>SSO</th>\n",
       "      <th>FSR</th>\n",
       "      <th>LIG</th>\n",
       "      <th>HAL</th>\n",
       "      <th>VIB</th>\n",
       "    </tr>\n",
       "  </thead>\n",
       "  <tbody>\n",
       "    <tr>\n",
       "      <th>0</th>\n",
       "      <td>507893</td>\n",
       "      <td>2021-08-07 19:34:08</td>\n",
       "      <td>H001238001</td>\n",
       "      <td>25.69</td>\n",
       "      <td>137</td>\n",
       "      <td>101</td>\n",
       "      <td>0</td>\n",
       "      <td>0</td>\n",
       "    </tr>\n",
       "    <tr>\n",
       "      <th>1</th>\n",
       "      <td>507891</td>\n",
       "      <td>2021-08-07 19:34:08</td>\n",
       "      <td>H001238001</td>\n",
       "      <td>25.67</td>\n",
       "      <td>137</td>\n",
       "      <td>103</td>\n",
       "      <td>0</td>\n",
       "      <td>0</td>\n",
       "    </tr>\n",
       "    <tr>\n",
       "      <th>2</th>\n",
       "      <td>507889</td>\n",
       "      <td>2021-08-07 19:34:07</td>\n",
       "      <td>H001238001</td>\n",
       "      <td>25.69</td>\n",
       "      <td>137</td>\n",
       "      <td>102</td>\n",
       "      <td>0</td>\n",
       "      <td>0</td>\n",
       "    </tr>\n",
       "    <tr>\n",
       "      <th>3</th>\n",
       "      <td>507887</td>\n",
       "      <td>2021-08-07 19:34:06</td>\n",
       "      <td>H001238001</td>\n",
       "      <td>25.67</td>\n",
       "      <td>137</td>\n",
       "      <td>102</td>\n",
       "      <td>0</td>\n",
       "      <td>0</td>\n",
       "    </tr>\n",
       "    <tr>\n",
       "      <th>4</th>\n",
       "      <td>507885</td>\n",
       "      <td>2021-08-07 19:34:06</td>\n",
       "      <td>H001238001</td>\n",
       "      <td>25.67</td>\n",
       "      <td>137</td>\n",
       "      <td>102</td>\n",
       "      <td>0</td>\n",
       "      <td>0</td>\n",
       "    </tr>\n",
       "  </tbody>\n",
       "</table>\n",
       "</div>"
      ],
      "text/plain": [
       "   SenKey                AddDt   CRRMngKey    SSO  FSR  LIG  HAL  VIB\n",
       "0  507893  2021-08-07 19:34:08  H001238001  25.69  137  101    0    0\n",
       "1  507891  2021-08-07 19:34:08  H001238001  25.67  137  103    0    0\n",
       "2  507889  2021-08-07 19:34:07  H001238001  25.69  137  102    0    0\n",
       "3  507887  2021-08-07 19:34:06  H001238001  25.67  137  102    0    0\n",
       "4  507885  2021-08-07 19:34:06  H001238001  25.67  137  102    0    0"
      ]
     },
     "metadata": {},
     "execution_count": 2
    }
   ],
   "metadata": {}
  },
  {
   "cell_type": "code",
   "execution_count": 3,
   "source": [
    "raw_data.iloc[:30,:]"
   ],
   "outputs": [
    {
     "output_type": "execute_result",
     "data": {
      "text/html": [
       "<div>\n",
       "<style scoped>\n",
       "    .dataframe tbody tr th:only-of-type {\n",
       "        vertical-align: middle;\n",
       "    }\n",
       "\n",
       "    .dataframe tbody tr th {\n",
       "        vertical-align: top;\n",
       "    }\n",
       "\n",
       "    .dataframe thead th {\n",
       "        text-align: right;\n",
       "    }\n",
       "</style>\n",
       "<table border=\"1\" class=\"dataframe\">\n",
       "  <thead>\n",
       "    <tr style=\"text-align: right;\">\n",
       "      <th></th>\n",
       "      <th>SenKey</th>\n",
       "      <th>AddDt</th>\n",
       "      <th>CRRMngKey</th>\n",
       "      <th>SSO</th>\n",
       "      <th>FSR</th>\n",
       "      <th>LIG</th>\n",
       "      <th>HAL</th>\n",
       "      <th>VIB</th>\n",
       "    </tr>\n",
       "  </thead>\n",
       "  <tbody>\n",
       "    <tr>\n",
       "      <th>0</th>\n",
       "      <td>507893</td>\n",
       "      <td>2021-08-07 19:34:08</td>\n",
       "      <td>H001238001</td>\n",
       "      <td>25.69</td>\n",
       "      <td>137</td>\n",
       "      <td>101</td>\n",
       "      <td>0</td>\n",
       "      <td>0</td>\n",
       "    </tr>\n",
       "    <tr>\n",
       "      <th>1</th>\n",
       "      <td>507891</td>\n",
       "      <td>2021-08-07 19:34:08</td>\n",
       "      <td>H001238001</td>\n",
       "      <td>25.67</td>\n",
       "      <td>137</td>\n",
       "      <td>103</td>\n",
       "      <td>0</td>\n",
       "      <td>0</td>\n",
       "    </tr>\n",
       "    <tr>\n",
       "      <th>2</th>\n",
       "      <td>507889</td>\n",
       "      <td>2021-08-07 19:34:07</td>\n",
       "      <td>H001238001</td>\n",
       "      <td>25.69</td>\n",
       "      <td>137</td>\n",
       "      <td>102</td>\n",
       "      <td>0</td>\n",
       "      <td>0</td>\n",
       "    </tr>\n",
       "    <tr>\n",
       "      <th>3</th>\n",
       "      <td>507887</td>\n",
       "      <td>2021-08-07 19:34:06</td>\n",
       "      <td>H001238001</td>\n",
       "      <td>25.67</td>\n",
       "      <td>137</td>\n",
       "      <td>102</td>\n",
       "      <td>0</td>\n",
       "      <td>0</td>\n",
       "    </tr>\n",
       "    <tr>\n",
       "      <th>4</th>\n",
       "      <td>507885</td>\n",
       "      <td>2021-08-07 19:34:06</td>\n",
       "      <td>H001238001</td>\n",
       "      <td>25.67</td>\n",
       "      <td>137</td>\n",
       "      <td>102</td>\n",
       "      <td>0</td>\n",
       "      <td>0</td>\n",
       "    </tr>\n",
       "    <tr>\n",
       "      <th>5</th>\n",
       "      <td>507883</td>\n",
       "      <td>2021-08-07 19:34:05</td>\n",
       "      <td>H001238001</td>\n",
       "      <td>25.67</td>\n",
       "      <td>137</td>\n",
       "      <td>102</td>\n",
       "      <td>0</td>\n",
       "      <td>0</td>\n",
       "    </tr>\n",
       "    <tr>\n",
       "      <th>6</th>\n",
       "      <td>507881</td>\n",
       "      <td>2021-08-07 19:34:05</td>\n",
       "      <td>H001238001</td>\n",
       "      <td>25.67</td>\n",
       "      <td>137</td>\n",
       "      <td>102</td>\n",
       "      <td>0</td>\n",
       "      <td>0</td>\n",
       "    </tr>\n",
       "    <tr>\n",
       "      <th>7</th>\n",
       "      <td>507879</td>\n",
       "      <td>2021-08-07 19:34:04</td>\n",
       "      <td>H001238001</td>\n",
       "      <td>25.67</td>\n",
       "      <td>136</td>\n",
       "      <td>102</td>\n",
       "      <td>0</td>\n",
       "      <td>0</td>\n",
       "    </tr>\n",
       "    <tr>\n",
       "      <th>8</th>\n",
       "      <td>507877</td>\n",
       "      <td>2021-08-07 19:34:03</td>\n",
       "      <td>H001238001</td>\n",
       "      <td>25.67</td>\n",
       "      <td>137</td>\n",
       "      <td>101</td>\n",
       "      <td>0</td>\n",
       "      <td>0</td>\n",
       "    </tr>\n",
       "    <tr>\n",
       "      <th>9</th>\n",
       "      <td>507875</td>\n",
       "      <td>2021-08-07 19:34:03</td>\n",
       "      <td>H001238001</td>\n",
       "      <td>25.67</td>\n",
       "      <td>137</td>\n",
       "      <td>102</td>\n",
       "      <td>0</td>\n",
       "      <td>0</td>\n",
       "    </tr>\n",
       "    <tr>\n",
       "      <th>10</th>\n",
       "      <td>507873</td>\n",
       "      <td>2021-08-07 19:34:02</td>\n",
       "      <td>H001238001</td>\n",
       "      <td>25.69</td>\n",
       "      <td>137</td>\n",
       "      <td>101</td>\n",
       "      <td>0</td>\n",
       "      <td>0</td>\n",
       "    </tr>\n",
       "    <tr>\n",
       "      <th>11</th>\n",
       "      <td>507871</td>\n",
       "      <td>2021-08-07 19:34:02</td>\n",
       "      <td>H001238001</td>\n",
       "      <td>25.67</td>\n",
       "      <td>138</td>\n",
       "      <td>102</td>\n",
       "      <td>0</td>\n",
       "      <td>0</td>\n",
       "    </tr>\n",
       "    <tr>\n",
       "      <th>12</th>\n",
       "      <td>507869</td>\n",
       "      <td>2021-08-07 19:34:01</td>\n",
       "      <td>H001238001</td>\n",
       "      <td>25.67</td>\n",
       "      <td>137</td>\n",
       "      <td>102</td>\n",
       "      <td>0</td>\n",
       "      <td>0</td>\n",
       "    </tr>\n",
       "    <tr>\n",
       "      <th>13</th>\n",
       "      <td>507867</td>\n",
       "      <td>2021-08-07 19:34:00</td>\n",
       "      <td>H001238001</td>\n",
       "      <td>25.67</td>\n",
       "      <td>137</td>\n",
       "      <td>102</td>\n",
       "      <td>0</td>\n",
       "      <td>0</td>\n",
       "    </tr>\n",
       "    <tr>\n",
       "      <th>14</th>\n",
       "      <td>507865</td>\n",
       "      <td>2021-08-07 19:34:00</td>\n",
       "      <td>H001238001</td>\n",
       "      <td>25.67</td>\n",
       "      <td>138</td>\n",
       "      <td>101</td>\n",
       "      <td>0</td>\n",
       "      <td>0</td>\n",
       "    </tr>\n",
       "    <tr>\n",
       "      <th>15</th>\n",
       "      <td>507863</td>\n",
       "      <td>2021-08-07 19:33:59</td>\n",
       "      <td>H001238001</td>\n",
       "      <td>25.69</td>\n",
       "      <td>137</td>\n",
       "      <td>100</td>\n",
       "      <td>0</td>\n",
       "      <td>0</td>\n",
       "    </tr>\n",
       "    <tr>\n",
       "      <th>16</th>\n",
       "      <td>507861</td>\n",
       "      <td>2021-08-07 19:33:59</td>\n",
       "      <td>H001238001</td>\n",
       "      <td>25.67</td>\n",
       "      <td>136</td>\n",
       "      <td>99</td>\n",
       "      <td>0</td>\n",
       "      <td>0</td>\n",
       "    </tr>\n",
       "    <tr>\n",
       "      <th>17</th>\n",
       "      <td>507859</td>\n",
       "      <td>2021-08-07 19:33:58</td>\n",
       "      <td>H001238001</td>\n",
       "      <td>25.57</td>\n",
       "      <td>136</td>\n",
       "      <td>101</td>\n",
       "      <td>0</td>\n",
       "      <td>0</td>\n",
       "    </tr>\n",
       "    <tr>\n",
       "      <th>18</th>\n",
       "      <td>507857</td>\n",
       "      <td>2021-08-07 19:33:57</td>\n",
       "      <td>H001238001</td>\n",
       "      <td>25.57</td>\n",
       "      <td>137</td>\n",
       "      <td>100</td>\n",
       "      <td>0</td>\n",
       "      <td>0</td>\n",
       "    </tr>\n",
       "    <tr>\n",
       "      <th>19</th>\n",
       "      <td>507855</td>\n",
       "      <td>2021-08-07 19:33:57</td>\n",
       "      <td>H001238001</td>\n",
       "      <td>25.57</td>\n",
       "      <td>136</td>\n",
       "      <td>99</td>\n",
       "      <td>0</td>\n",
       "      <td>0</td>\n",
       "    </tr>\n",
       "    <tr>\n",
       "      <th>20</th>\n",
       "      <td>507853</td>\n",
       "      <td>2021-08-07 19:33:56</td>\n",
       "      <td>H001238001</td>\n",
       "      <td>25.57</td>\n",
       "      <td>136</td>\n",
       "      <td>98</td>\n",
       "      <td>0</td>\n",
       "      <td>0</td>\n",
       "    </tr>\n",
       "    <tr>\n",
       "      <th>21</th>\n",
       "      <td>507851</td>\n",
       "      <td>2021-08-07 19:33:56</td>\n",
       "      <td>H001238001</td>\n",
       "      <td>25.57</td>\n",
       "      <td>136</td>\n",
       "      <td>94</td>\n",
       "      <td>0</td>\n",
       "      <td>0</td>\n",
       "    </tr>\n",
       "    <tr>\n",
       "      <th>22</th>\n",
       "      <td>507849</td>\n",
       "      <td>2021-08-07 19:33:55</td>\n",
       "      <td>H001238001</td>\n",
       "      <td>25.57</td>\n",
       "      <td>136</td>\n",
       "      <td>91</td>\n",
       "      <td>0</td>\n",
       "      <td>0</td>\n",
       "    </tr>\n",
       "    <tr>\n",
       "      <th>23</th>\n",
       "      <td>507847</td>\n",
       "      <td>2021-08-07 19:33:54</td>\n",
       "      <td>H001238001</td>\n",
       "      <td>25.57</td>\n",
       "      <td>137</td>\n",
       "      <td>95</td>\n",
       "      <td>0</td>\n",
       "      <td>0</td>\n",
       "    </tr>\n",
       "    <tr>\n",
       "      <th>24</th>\n",
       "      <td>507845</td>\n",
       "      <td>2021-08-07 19:33:54</td>\n",
       "      <td>H001238001</td>\n",
       "      <td>25.57</td>\n",
       "      <td>137</td>\n",
       "      <td>99</td>\n",
       "      <td>0</td>\n",
       "      <td>0</td>\n",
       "    </tr>\n",
       "    <tr>\n",
       "      <th>25</th>\n",
       "      <td>507843</td>\n",
       "      <td>2021-08-07 19:33:53</td>\n",
       "      <td>H001238001</td>\n",
       "      <td>25.57</td>\n",
       "      <td>136</td>\n",
       "      <td>100</td>\n",
       "      <td>0</td>\n",
       "      <td>0</td>\n",
       "    </tr>\n",
       "    <tr>\n",
       "      <th>26</th>\n",
       "      <td>507841</td>\n",
       "      <td>2021-08-07 19:33:53</td>\n",
       "      <td>H001238001</td>\n",
       "      <td>25.57</td>\n",
       "      <td>135</td>\n",
       "      <td>99</td>\n",
       "      <td>0</td>\n",
       "      <td>0</td>\n",
       "    </tr>\n",
       "    <tr>\n",
       "      <th>27</th>\n",
       "      <td>507839</td>\n",
       "      <td>2021-08-07 19:33:52</td>\n",
       "      <td>H001238001</td>\n",
       "      <td>25.57</td>\n",
       "      <td>134</td>\n",
       "      <td>99</td>\n",
       "      <td>0</td>\n",
       "      <td>0</td>\n",
       "    </tr>\n",
       "    <tr>\n",
       "      <th>28</th>\n",
       "      <td>507837</td>\n",
       "      <td>2021-08-07 19:33:52</td>\n",
       "      <td>H001238001</td>\n",
       "      <td>25.67</td>\n",
       "      <td>135</td>\n",
       "      <td>99</td>\n",
       "      <td>0</td>\n",
       "      <td>0</td>\n",
       "    </tr>\n",
       "    <tr>\n",
       "      <th>29</th>\n",
       "      <td>507835</td>\n",
       "      <td>2021-08-07 19:33:51</td>\n",
       "      <td>H001238001</td>\n",
       "      <td>25.67</td>\n",
       "      <td>135</td>\n",
       "      <td>100</td>\n",
       "      <td>0</td>\n",
       "      <td>0</td>\n",
       "    </tr>\n",
       "  </tbody>\n",
       "</table>\n",
       "</div>"
      ],
      "text/plain": [
       "    SenKey                AddDt   CRRMngKey    SSO  FSR  LIG  HAL  VIB\n",
       "0   507893  2021-08-07 19:34:08  H001238001  25.69  137  101    0    0\n",
       "1   507891  2021-08-07 19:34:08  H001238001  25.67  137  103    0    0\n",
       "2   507889  2021-08-07 19:34:07  H001238001  25.69  137  102    0    0\n",
       "3   507887  2021-08-07 19:34:06  H001238001  25.67  137  102    0    0\n",
       "4   507885  2021-08-07 19:34:06  H001238001  25.67  137  102    0    0\n",
       "5   507883  2021-08-07 19:34:05  H001238001  25.67  137  102    0    0\n",
       "6   507881  2021-08-07 19:34:05  H001238001  25.67  137  102    0    0\n",
       "7   507879  2021-08-07 19:34:04  H001238001  25.67  136  102    0    0\n",
       "8   507877  2021-08-07 19:34:03  H001238001  25.67  137  101    0    0\n",
       "9   507875  2021-08-07 19:34:03  H001238001  25.67  137  102    0    0\n",
       "10  507873  2021-08-07 19:34:02  H001238001  25.69  137  101    0    0\n",
       "11  507871  2021-08-07 19:34:02  H001238001  25.67  138  102    0    0\n",
       "12  507869  2021-08-07 19:34:01  H001238001  25.67  137  102    0    0\n",
       "13  507867  2021-08-07 19:34:00  H001238001  25.67  137  102    0    0\n",
       "14  507865  2021-08-07 19:34:00  H001238001  25.67  138  101    0    0\n",
       "15  507863  2021-08-07 19:33:59  H001238001  25.69  137  100    0    0\n",
       "16  507861  2021-08-07 19:33:59  H001238001  25.67  136   99    0    0\n",
       "17  507859  2021-08-07 19:33:58  H001238001  25.57  136  101    0    0\n",
       "18  507857  2021-08-07 19:33:57  H001238001  25.57  137  100    0    0\n",
       "19  507855  2021-08-07 19:33:57  H001238001  25.57  136   99    0    0\n",
       "20  507853  2021-08-07 19:33:56  H001238001  25.57  136   98    0    0\n",
       "21  507851  2021-08-07 19:33:56  H001238001  25.57  136   94    0    0\n",
       "22  507849  2021-08-07 19:33:55  H001238001  25.57  136   91    0    0\n",
       "23  507847  2021-08-07 19:33:54  H001238001  25.57  137   95    0    0\n",
       "24  507845  2021-08-07 19:33:54  H001238001  25.57  137   99    0    0\n",
       "25  507843  2021-08-07 19:33:53  H001238001  25.57  136  100    0    0\n",
       "26  507841  2021-08-07 19:33:53  H001238001  25.57  135   99    0    0\n",
       "27  507839  2021-08-07 19:33:52  H001238001  25.57  134   99    0    0\n",
       "28  507837  2021-08-07 19:33:52  H001238001  25.67  135   99    0    0\n",
       "29  507835  2021-08-07 19:33:51  H001238001  25.67  135  100    0    0"
      ]
     },
     "metadata": {},
     "execution_count": 3
    }
   ],
   "metadata": {}
  },
  {
   "cell_type": "code",
   "execution_count": 4,
   "source": [
    "data = raw_data[['AddDt','SSO','FSR','LIG','HAL','VIB']]\n",
    "data"
   ],
   "outputs": [
    {
     "output_type": "execute_result",
     "data": {
      "text/html": [
       "<div>\n",
       "<style scoped>\n",
       "    .dataframe tbody tr th:only-of-type {\n",
       "        vertical-align: middle;\n",
       "    }\n",
       "\n",
       "    .dataframe tbody tr th {\n",
       "        vertical-align: top;\n",
       "    }\n",
       "\n",
       "    .dataframe thead th {\n",
       "        text-align: right;\n",
       "    }\n",
       "</style>\n",
       "<table border=\"1\" class=\"dataframe\">\n",
       "  <thead>\n",
       "    <tr style=\"text-align: right;\">\n",
       "      <th></th>\n",
       "      <th>AddDt</th>\n",
       "      <th>SSO</th>\n",
       "      <th>FSR</th>\n",
       "      <th>LIG</th>\n",
       "      <th>HAL</th>\n",
       "      <th>VIB</th>\n",
       "    </tr>\n",
       "  </thead>\n",
       "  <tbody>\n",
       "    <tr>\n",
       "      <th>0</th>\n",
       "      <td>2021-08-07 19:34:08</td>\n",
       "      <td>25.69</td>\n",
       "      <td>137</td>\n",
       "      <td>101</td>\n",
       "      <td>0</td>\n",
       "      <td>0</td>\n",
       "    </tr>\n",
       "    <tr>\n",
       "      <th>1</th>\n",
       "      <td>2021-08-07 19:34:08</td>\n",
       "      <td>25.67</td>\n",
       "      <td>137</td>\n",
       "      <td>103</td>\n",
       "      <td>0</td>\n",
       "      <td>0</td>\n",
       "    </tr>\n",
       "    <tr>\n",
       "      <th>2</th>\n",
       "      <td>2021-08-07 19:34:07</td>\n",
       "      <td>25.69</td>\n",
       "      <td>137</td>\n",
       "      <td>102</td>\n",
       "      <td>0</td>\n",
       "      <td>0</td>\n",
       "    </tr>\n",
       "    <tr>\n",
       "      <th>3</th>\n",
       "      <td>2021-08-07 19:34:06</td>\n",
       "      <td>25.67</td>\n",
       "      <td>137</td>\n",
       "      <td>102</td>\n",
       "      <td>0</td>\n",
       "      <td>0</td>\n",
       "    </tr>\n",
       "    <tr>\n",
       "      <th>4</th>\n",
       "      <td>2021-08-07 19:34:06</td>\n",
       "      <td>25.67</td>\n",
       "      <td>137</td>\n",
       "      <td>102</td>\n",
       "      <td>0</td>\n",
       "      <td>0</td>\n",
       "    </tr>\n",
       "    <tr>\n",
       "      <th>...</th>\n",
       "      <td>...</td>\n",
       "      <td>...</td>\n",
       "      <td>...</td>\n",
       "      <td>...</td>\n",
       "      <td>...</td>\n",
       "      <td>...</td>\n",
       "    </tr>\n",
       "    <tr>\n",
       "      <th>66674</th>\n",
       "      <td>2021-07-16 15:03:21</td>\n",
       "      <td>25.74</td>\n",
       "      <td>168</td>\n",
       "      <td>121</td>\n",
       "      <td>1</td>\n",
       "      <td>0</td>\n",
       "    </tr>\n",
       "    <tr>\n",
       "      <th>66675</th>\n",
       "      <td>2021-07-16 15:03:21</td>\n",
       "      <td>25.64</td>\n",
       "      <td>169</td>\n",
       "      <td>121</td>\n",
       "      <td>1</td>\n",
       "      <td>0</td>\n",
       "    </tr>\n",
       "    <tr>\n",
       "      <th>66676</th>\n",
       "      <td>2021-07-16 15:03:20</td>\n",
       "      <td>25.75</td>\n",
       "      <td>168</td>\n",
       "      <td>120</td>\n",
       "      <td>1</td>\n",
       "      <td>0</td>\n",
       "    </tr>\n",
       "    <tr>\n",
       "      <th>66677</th>\n",
       "      <td>2021-07-16 15:03:19</td>\n",
       "      <td>25.65</td>\n",
       "      <td>168</td>\n",
       "      <td>120</td>\n",
       "      <td>1</td>\n",
       "      <td>0</td>\n",
       "    </tr>\n",
       "    <tr>\n",
       "      <th>66678</th>\n",
       "      <td>2021-07-16 15:03:19</td>\n",
       "      <td>25.28</td>\n",
       "      <td>169</td>\n",
       "      <td>120</td>\n",
       "      <td>1</td>\n",
       "      <td>0</td>\n",
       "    </tr>\n",
       "  </tbody>\n",
       "</table>\n",
       "<p>66679 rows × 6 columns</p>\n",
       "</div>"
      ],
      "text/plain": [
       "                     AddDt    SSO  FSR  LIG  HAL  VIB\n",
       "0      2021-08-07 19:34:08  25.69  137  101    0    0\n",
       "1      2021-08-07 19:34:08  25.67  137  103    0    0\n",
       "2      2021-08-07 19:34:07  25.69  137  102    0    0\n",
       "3      2021-08-07 19:34:06  25.67  137  102    0    0\n",
       "4      2021-08-07 19:34:06  25.67  137  102    0    0\n",
       "...                    ...    ...  ...  ...  ...  ...\n",
       "66674  2021-07-16 15:03:21  25.74  168  121    1    0\n",
       "66675  2021-07-16 15:03:21  25.64  169  121    1    0\n",
       "66676  2021-07-16 15:03:20  25.75  168  120    1    0\n",
       "66677  2021-07-16 15:03:19  25.65  168  120    1    0\n",
       "66678  2021-07-16 15:03:19  25.28  169  120    1    0\n",
       "\n",
       "[66679 rows x 6 columns]"
      ]
     },
     "metadata": {},
     "execution_count": 4
    }
   ],
   "metadata": {}
  },
  {
   "cell_type": "code",
   "execution_count": 5,
   "source": [
    "fig = plt.figure(figsize = (14,6))\n",
    "\n",
    "chart1 = fig.add_subplot(111)\n",
    "chart2 = chart1.twinx()\n",
    "chart3 = chart1.twinx()\n",
    "\n",
    "chart1.plot(range(30),data.iloc[3610:3640,1],'b', label = '초음파')\n",
    "\n",
    "chart2.plot(range(30),data.iloc[3610:3640,2],'y',label = '압력')\n",
    "chart3.plot(range(30),data.iloc[3610:3640,3],'r',label = '광센서')\n",
    "\n",
    "chart1.legend()\n",
    "chart2.legend(loc =2)\n",
    "chart3.legend(loc =3)"
   ],
   "outputs": [
    {
     "output_type": "execute_result",
     "data": {
      "text/plain": [
       "<matplotlib.legend.Legend at 0x7fe590915550>"
      ]
     },
     "metadata": {},
     "execution_count": 5
    },
    {
     "output_type": "display_data",
     "data": {
      "image/png": "[encoded data removed]",
      "text/plain": [
       "<Figure size 1008x432 with 3 Axes>"
      ]
     },
     "metadata": {
      "needs_background": "light"
     }
    }
   ],
   "metadata": {
    "collapsed": true
   }
  },
  {
   "cell_type": "code",
   "execution_count": 6,
   "source": [
    "sns.kdeplot(data['SSO'])\n",
    "plt.grid()\n",
    "#22"
   ],
   "outputs": [
    {
     "output_type": "display_data",
     "data": {
      "image/png": "[encoded data removed]",
      "text/plain": [
       "<Figure size 432x288 with 1 Axes>"
      ]
     },
     "metadata": {
      "needs_background": "light"
     }
    }
   ],
   "metadata": {}
  },
  {
   "cell_type": "code",
   "execution_count": 7,
   "source": [
    "sdata = data['SSO']"
   ],
   "outputs": [],
   "metadata": {}
  },
  {
   "cell_type": "code",
   "execution_count": 8,
   "source": [
    "sns.kdeplot(sdata[(sdata<29) & (12<sdata)])\n",
    "plt.grid()\n",
    "plt.xticks(ticks =np.arange(12,29), labels=np.arange(12,29));"
   ],
   "outputs": [
    {
     "output_type": "display_data",
     "data": {
      "image/png": "[encoded data removed]",
      "text/plain": [
       "<Figure size 432x288 with 1 Axes>"
      ]
     },
     "metadata": {
      "needs_background": "light"
     }
    }
   ],
   "metadata": {}
  },
  {
   "cell_type": "code",
   "execution_count": 9,
   "source": [
    "sns.kdeplot(data['LIG'])\n",
    "plt.grid()"
   ],
   "outputs": [
    {
     "output_type": "display_data",
     "data": {
      "image/png": "[encoded data removed]",
      "text/plain": [
       "<Figure size 432x288 with 1 Axes>"
      ]
     },
     "metadata": {
      "needs_background": "light"
     }
    }
   ],
   "metadata": {}
  },
  {
   "cell_type": "code",
   "execution_count": 10,
   "source": [
    "ldata = data.copy()"
   ],
   "outputs": [],
   "metadata": {}
  },
  {
   "cell_type": "code",
   "execution_count": 11,
   "source": [
    "ldata = ldata['LIG']"
   ],
   "outputs": [],
   "metadata": {}
  },
  {
   "cell_type": "code",
   "execution_count": 12,
   "source": [
    "ldata"
   ],
   "outputs": [
    {
     "output_type": "execute_result",
     "data": {
      "text/plain": [
       "0        101\n",
       "1        103\n",
       "2        102\n",
       "3        102\n",
       "4        102\n",
       "        ... \n",
       "66674    121\n",
       "66675    121\n",
       "66676    120\n",
       "66677    120\n",
       "66678    120\n",
       "Name: LIG, Length: 66679, dtype: int64"
      ]
     },
     "metadata": {},
     "execution_count": 12
    }
   ],
   "metadata": {}
  },
  {
   "cell_type": "code",
   "execution_count": 13,
   "source": [
    "sns.kdeplot(ldata[ldata<140])\n",
    "plt.grid()\n",
    "tik= np.arange(60,140,5)\n",
    "plt.xticks(ticks =tik, labels=tik);"
   ],
   "outputs": [
    {
     "output_type": "display_data",
     "data": {
      "image/png": "[encoded data removed]",
      "text/plain": [
       "<Figure size 432x288 with 1 Axes>"
      ]
     },
     "metadata": {
      "needs_background": "light"
     }
    }
   ],
   "metadata": {}
  },
  {
   "cell_type": "code",
   "execution_count": 14,
   "source": [
    "sns.kdeplot(data['HAL'])\n",
    "plt.grid()"
   ],
   "outputs": [
    {
     "output_type": "display_data",
     "data": {
      "image/png": "[encoded data removed]",
      "text/plain": [
       "<Figure size 432x288 with 1 Axes>"
      ]
     },
     "metadata": {
      "needs_background": "light"
     }
    }
   ],
   "metadata": {}
  },
  {
   "cell_type": "code",
   "execution_count": 15,
   "source": [
    "sns.kdeplot(data['FSR'])\n",
    "plt.grid()\n",
    "tik= np.arange(50,300,10)\n",
    "plt.xticks(ticks =tik, labels=tik, rotation= 90);"
   ],
   "outputs": [
    {
     "output_type": "display_data",
     "data": {
      "image/png": "[encoded data removed]",
      "text/plain": [
       "<Figure size 432x288 with 1 Axes>"
      ]
     },
     "metadata": {
      "needs_background": "light"
     }
    }
   ],
   "metadata": {}
  },
  {
   "cell_type": "code",
   "execution_count": 16,
   "source": [
    "tdata = data.copy()"
   ],
   "outputs": [],
   "metadata": {}
  },
  {
   "cell_type": "code",
   "execution_count": 17,
   "source": [
    "tdata.head()"
   ],
   "outputs": [
    {
     "output_type": "execute_result",
     "data": {
      "text/html": [
       "<div>\n",
       "<style scoped>\n",
       "    .dataframe tbody tr th:only-of-type {\n",
       "        vertical-align: middle;\n",
       "    }\n",
       "\n",
       "    .dataframe tbody tr th {\n",
       "        vertical-align: top;\n",
       "    }\n",
       "\n",
       "    .dataframe thead th {\n",
       "        text-align: right;\n",
       "    }\n",
       "</style>\n",
       "<table border=\"1\" class=\"dataframe\">\n",
       "  <thead>\n",
       "    <tr style=\"text-align: right;\">\n",
       "      <th></th>\n",
       "      <th>AddDt</th>\n",
       "      <th>SSO</th>\n",
       "      <th>FSR</th>\n",
       "      <th>LIG</th>\n",
       "      <th>HAL</th>\n",
       "      <th>VIB</th>\n",
       "    </tr>\n",
       "  </thead>\n",
       "  <tbody>\n",
       "    <tr>\n",
       "      <th>0</th>\n",
       "      <td>2021-08-07 19:34:08</td>\n",
       "      <td>25.69</td>\n",
       "      <td>137</td>\n",
       "      <td>101</td>\n",
       "      <td>0</td>\n",
       "      <td>0</td>\n",
       "    </tr>\n",
       "    <tr>\n",
       "      <th>1</th>\n",
       "      <td>2021-08-07 19:34:08</td>\n",
       "      <td>25.67</td>\n",
       "      <td>137</td>\n",
       "      <td>103</td>\n",
       "      <td>0</td>\n",
       "      <td>0</td>\n",
       "    </tr>\n",
       "    <tr>\n",
       "      <th>2</th>\n",
       "      <td>2021-08-07 19:34:07</td>\n",
       "      <td>25.69</td>\n",
       "      <td>137</td>\n",
       "      <td>102</td>\n",
       "      <td>0</td>\n",
       "      <td>0</td>\n",
       "    </tr>\n",
       "    <tr>\n",
       "      <th>3</th>\n",
       "      <td>2021-08-07 19:34:06</td>\n",
       "      <td>25.67</td>\n",
       "      <td>137</td>\n",
       "      <td>102</td>\n",
       "      <td>0</td>\n",
       "      <td>0</td>\n",
       "    </tr>\n",
       "    <tr>\n",
       "      <th>4</th>\n",
       "      <td>2021-08-07 19:34:06</td>\n",
       "      <td>25.67</td>\n",
       "      <td>137</td>\n",
       "      <td>102</td>\n",
       "      <td>0</td>\n",
       "      <td>0</td>\n",
       "    </tr>\n",
       "  </tbody>\n",
       "</table>\n",
       "</div>"
      ],
      "text/plain": [
       "                 AddDt    SSO  FSR  LIG  HAL  VIB\n",
       "0  2021-08-07 19:34:08  25.69  137  101    0    0\n",
       "1  2021-08-07 19:34:08  25.67  137  103    0    0\n",
       "2  2021-08-07 19:34:07  25.69  137  102    0    0\n",
       "3  2021-08-07 19:34:06  25.67  137  102    0    0\n",
       "4  2021-08-07 19:34:06  25.67  137  102    0    0"
      ]
     },
     "metadata": {},
     "execution_count": 17
    }
   ],
   "metadata": {}
  },
  {
   "cell_type": "code",
   "execution_count": 18,
   "source": [
    "tdata['LIG']= tdata['LIG'].apply(lambda x : 1 if x >95 else 0)"
   ],
   "outputs": [],
   "metadata": {}
  },
  {
   "cell_type": "code",
   "execution_count": 19,
   "source": [
    "tdata['SSO']= tdata['SSO'].apply(lambda x : 1 if x >19.5 else 0)"
   ],
   "outputs": [],
   "metadata": {}
  },
  {
   "cell_type": "code",
   "execution_count": 20,
   "source": [
    "tdata['FSR']= tdata['FSR'].apply(lambda x : 1 if x >193 else 0)"
   ],
   "outputs": [],
   "metadata": {}
  },
  {
   "cell_type": "code",
   "execution_count": 21,
   "source": [
    "tdata.iloc[100:200,1:5].plot()"
   ],
   "outputs": [
    {
     "output_type": "execute_result",
     "data": {
      "text/plain": [
       "<AxesSubplot:>"
      ]
     },
     "metadata": {},
     "execution_count": 21
    },
    {
     "output_type": "display_data",
     "data": {
      "image/png": "[encoded data removed]",
      "text/plain": [
       "<Figure size 432x288 with 1 Axes>"
      ]
     },
     "metadata": {
      "needs_background": "light"
     }
    }
   ],
   "metadata": {}
  },
  {
   "cell_type": "code",
   "execution_count": null,
   "source": [],
   "outputs": [],
   "metadata": {}
  }
 ],
 "metadata": {
  "kernelspec": {
   "name": "python3",
   "display_name": "Python 3.8.5 64-bit ('base': conda)"
  },
  "language_info": {
   "codemirror_mode": {
    "name": "ipython",
    "version": 3
   },
   "file_extension": ".py",
   "mimetype": "text/x-python",
   "name": "python",
   "nbconvert_exporter": "python",
   "pygments_lexer": "ipython3",
   "version": "3.8.5"
  },
  "toc": {
   "base_numbering": 1,
   "nav_menu": {},
   "number_sections": true,
   "sideBar": true,
   "skip_h1_title": false,
   "title_cell": "Table of Contents",
   "title_sidebar": "Contents",
   "toc_cell": false,
   "toc_position": {},
   "toc_section_display": true,
   "toc_window_display": false
  },
  "varInspector": {
   "cols": {
    "lenName": 16,
    "lenType": 16,
    "lenVar": 40
   },
   "kernels_config": {
    "python": {
     "delete_cmd_postfix": "",
     "delete_cmd_prefix": "del ",
     "library": "var_list.py",
     "varRefreshCmd": "print(var_dic_list())"
    },
    "r": {
     "delete_cmd_postfix": ") ",
     "delete_cmd_prefix": "rm(",
     "library": "var_list.r",
     "varRefreshCmd": "cat(var_dic_list()) "
    }
   },
   "types_to_exclude": [
    "module",
    "function",
    "builtin_function_or_method",
    "instance",
    "_Feature"
   ],
   "window_display": false
  },
  "interpreter": {
   "hash": "e6660baea0803492447b44bc1605e0255c69d336a174a3eaa2e51c9f31b7844a"
  }
 },
 "nbformat": 4,
 "nbformat_minor": 5
}